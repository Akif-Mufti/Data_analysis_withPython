{
  "nbformat": 4,
  "nbformat_minor": 0,
  "metadata": {
    "colab": {
      "name": "basic_commands.ipynb",
      "provenance": [],
      "include_colab_link": true
    },
    "kernelspec": {
      "name": "python3",
      "display_name": "Python 3"
    }
  },
  "cells": [
    {
      "cell_type": "markdown",
      "metadata": {
        "id": "view-in-github",
        "colab_type": "text"
      },
      "source": [
        "<a href=\"https://colab.research.google.com/github/Akif-Mufti/Data_analysis_withPython/blob/master/basic_commands.ipynb\" target=\"_parent\"><img src=\"https://colab.research.google.com/assets/colab-badge.svg\" alt=\"Open In Colab\"/></a>"
      ]
    },
    {
      "cell_type": "code",
      "metadata": {
        "id": "epKLGNY5temc",
        "colab_type": "code",
        "outputId": "4f574e9d-984d-4eb8-e220-5aa4e3397e1e",
        "colab": {
          "base_uri": "https://localhost:8080/",
          "height": 34
        }
      },
      "source": [
        "!pwd"
      ],
      "execution_count": 0,
      "outputs": [
        {
          "output_type": "stream",
          "text": [
            "/\n"
          ],
          "name": "stdout"
        }
      ]
    },
    {
      "cell_type": "code",
      "metadata": {
        "id": "_B4diecxvc0H",
        "colab_type": "code",
        "outputId": "c619e2da-afc9-455d-e606-463d58027625",
        "colab": {
          "base_uri": "https://localhost:8080/",
          "height": 34
        }
      },
      "source": [
        "!pwd"
      ],
      "execution_count": 0,
      "outputs": [
        {
          "output_type": "stream",
          "text": [
            "/\n"
          ],
          "name": "stdout"
        }
      ]
    },
    {
      "cell_type": "code",
      "metadata": {
        "id": "7MGUZn4Jtxhs",
        "colab_type": "code",
        "outputId": "a14de7cf-cf85-4470-a136-5d599991c854",
        "colab": {
          "base_uri": "https://localhost:8080/",
          "height": 34
        }
      },
      "source": [
        "cd .."
      ],
      "execution_count": 0,
      "outputs": [
        {
          "output_type": "stream",
          "text": [
            "/\n"
          ],
          "name": "stdout"
        }
      ]
    },
    {
      "cell_type": "code",
      "metadata": {
        "id": "XUJrs9Qgt_qX",
        "colab_type": "code",
        "outputId": "9f350291-582a-4371-a298-d578c21e8c88",
        "colab": {
          "base_uri": "https://localhost:8080/",
          "height": 67
        }
      },
      "source": [
        "!ls"
      ],
      "execution_count": 0,
      "outputs": [
        {
          "output_type": "stream",
          "text": [
            "anscombe.json\t\t      mnist_test.csv\n",
            "california_housing_test.csv   mnist_train_small.csv\n",
            "california_housing_train.csv  README.md\n"
          ],
          "name": "stdout"
        }
      ]
    },
    {
      "cell_type": "code",
      "metadata": {
        "id": "Dpw3vEbRut6J",
        "colab_type": "code",
        "colab": {}
      },
      "source": [
        "!git clone https://github.com/anujshah1003/own_data_cnn_implementation_keras.git"
      ],
      "execution_count": 0,
      "outputs": []
    },
    {
      "cell_type": "code",
      "metadata": {
        "id": "wEiTgEv7vi52",
        "colab_type": "code",
        "outputId": "68ea678c-0bbc-4c81-97ab-5ea980b1fffa",
        "colab": {
          "base_uri": "https://localhost:8080/",
          "height": 34
        }
      },
      "source": [
        "!cd\n",
        "!pwd"
      ],
      "execution_count": 0,
      "outputs": [
        {
          "output_type": "stream",
          "text": [
            "/\n"
          ],
          "name": "stdout"
        }
      ]
    },
    {
      "cell_type": "code",
      "metadata": {
        "id": "m6q5GPEHv1lC",
        "colab_type": "code",
        "colab": {}
      },
      "source": [
        "cd content"
      ],
      "execution_count": 0,
      "outputs": []
    },
    {
      "cell_type": "code",
      "metadata": {
        "id": "O7XOvq2lwDem",
        "colab_type": "code",
        "colab": {}
      },
      "source": [
        "!git clone https://github.com/anujshah1003/own_data_cnn_implementation_keras.git"
      ],
      "execution_count": 0,
      "outputs": []
    },
    {
      "cell_type": "code",
      "metadata": {
        "id": "Qx-HCI04wmSV",
        "colab_type": "code",
        "colab": {}
      },
      "source": [
        "cd own_data_cnn_implementation_keras/"
      ],
      "execution_count": 0,
      "outputs": []
    },
    {
      "cell_type": "code",
      "metadata": {
        "id": "hh1vE1guxFF1",
        "colab_type": "code",
        "outputId": "362b0f0e-3fa5-428e-8c32-99c60e2b19b8",
        "colab": {
          "base_uri": "https://localhost:8080/",
          "height": 50
        }
      },
      "source": [
        "!ls"
      ],
      "execution_count": 0,
      "outputs": [
        {
          "output_type": "stream",
          "text": [
            "_config.yml\t    data.zip   updated_custom_data_cnn.py\n",
            "custom_data_cnn.py  README.md\n"
          ],
          "name": "stdout"
        }
      ]
    },
    {
      "cell_type": "code",
      "metadata": {
        "id": "8BgVzwSYxa1n",
        "colab_type": "code",
        "colab": {}
      },
      "source": [
        "!rm -rf updated_custom_data_cnn.py custom_data_cnn.py"
      ],
      "execution_count": 0,
      "outputs": []
    },
    {
      "cell_type": "markdown",
      "metadata": {
        "id": "HypLV_zFxhLX",
        "colab_type": "text"
      },
      "source": [
        "!ls"
      ]
    },
    {
      "cell_type": "code",
      "metadata": {
        "id": "oEHvlmD3xkww",
        "colab_type": "code",
        "outputId": "ca86f885-3761-4a36-9ede-2b9e5072839b",
        "colab": {
          "base_uri": "https://localhost:8080/",
          "height": 34
        }
      },
      "source": [
        "!ls"
      ],
      "execution_count": 0,
      "outputs": [
        {
          "output_type": "stream",
          "text": [
            "_config.yml  data.zip  README.md\n"
          ],
          "name": "stdout"
        }
      ]
    },
    {
      "cell_type": "code",
      "metadata": {
        "id": "rOS4-I3s1ag4",
        "colab_type": "code",
        "outputId": "6b969936-9719-4fbd-e80a-deb2c43a2c59",
        "colab": {
          "base_uri": "https://localhost:8080/",
          "height": 50
        }
      },
      "source": [
        "from zipfile import ZipFile\n",
        "file_name = \"data.zip\"\n",
        "with ZipFile(file_name, 'r') as zip:\n",
        "  print('extracting of the file now')\n",
        "  zip.extractall()\n",
        "  print('done')"
      ],
      "execution_count": 0,
      "outputs": [
        {
          "output_type": "stream",
          "text": [
            "extracting of the file now\n",
            "done\n"
          ],
          "name": "stdout"
        }
      ]
    },
    {
      "cell_type": "code",
      "metadata": {
        "id": "mHBys2yk5NFF",
        "colab_type": "code",
        "colab": {}
      },
      "source": [
        "!rm -rf data.zip"
      ],
      "execution_count": 0,
      "outputs": []
    },
    {
      "cell_type": "code",
      "metadata": {
        "id": "StrRD3cb5YxD",
        "colab_type": "code",
        "outputId": "a3e18d35-1550-4748-bd69-4db60523b8b4",
        "colab": {
          "base_uri": "https://localhost:8080/",
          "height": 34
        }
      },
      "source": [
        "cd data/"
      ],
      "execution_count": 0,
      "outputs": [
        {
          "output_type": "stream",
          "text": [
            "/content/own_data_cnn_implementation_keras/data\n"
          ],
          "name": "stdout"
        }
      ]
    },
    {
      "cell_type": "code",
      "metadata": {
        "id": "Kg8Tau465c1e",
        "colab_type": "code",
        "outputId": "5b531c64-ab99-4779-a00e-4637ccd5b577",
        "colab": {
          "base_uri": "https://localhost:8080/",
          "height": 34
        }
      },
      "source": [
        "ls"
      ],
      "execution_count": 0,
      "outputs": [
        {
          "output_type": "stream",
          "text": [
            "\u001b[0m\u001b[01;34mcats\u001b[0m/  \u001b[01;34mdogs\u001b[0m/  \u001b[01;34mhorses\u001b[0m/  \u001b[01;34mhumans\u001b[0m/\n"
          ],
          "name": "stdout"
        }
      ]
    },
    {
      "cell_type": "code",
      "metadata": {
        "id": "tWCkRfwZ5u-X",
        "colab_type": "code",
        "outputId": "e5d263b2-a4ca-47d5-b102-071beb026398",
        "colab": {
          "base_uri": "https://localhost:8080/",
          "height": 34
        }
      },
      "source": [
        "cd dogs/\n"
      ],
      "execution_count": 0,
      "outputs": [
        {
          "output_type": "stream",
          "text": [
            "/content/own_data_cnn_implementation_keras/data/dogs\n"
          ],
          "name": "stdout"
        }
      ]
    },
    {
      "cell_type": "code",
      "metadata": {
        "id": "NG1B-TIP5x8E",
        "colab_type": "code",
        "outputId": "ad03869b-ba72-428c-8839-8da1799ceafe",
        "colab": {
          "base_uri": "https://localhost:8080/",
          "height": 588
        }
      },
      "source": [
        "!ls"
      ],
      "execution_count": 0,
      "outputs": [
        {
          "output_type": "stream",
          "text": [
            "dog.100.jpg  dog.131.jpg  dog.162.jpg  dog.193.jpg  dog.40.jpg\tdog.71.jpg\n",
            "dog.101.jpg  dog.132.jpg  dog.163.jpg  dog.194.jpg  dog.41.jpg\tdog.72.jpg\n",
            "dog.102.jpg  dog.133.jpg  dog.164.jpg  dog.195.jpg  dog.42.jpg\tdog.73.jpg\n",
            "dog.103.jpg  dog.134.jpg  dog.165.jpg  dog.196.jpg  dog.43.jpg\tdog.74.jpg\n",
            "dog.104.jpg  dog.135.jpg  dog.166.jpg  dog.197.jpg  dog.44.jpg\tdog.75.jpg\n",
            "dog.105.jpg  dog.136.jpg  dog.167.jpg  dog.198.jpg  dog.45.jpg\tdog.76.jpg\n",
            "dog.106.jpg  dog.137.jpg  dog.168.jpg  dog.199.jpg  dog.46.jpg\tdog.77.jpg\n",
            "dog.107.jpg  dog.138.jpg  dog.169.jpg  dog.19.jpg   dog.47.jpg\tdog.78.jpg\n",
            "dog.108.jpg  dog.139.jpg  dog.16.jpg   dog.1.jpg    dog.48.jpg\tdog.79.jpg\n",
            "dog.109.jpg  dog.13.jpg   dog.170.jpg  dog.200.jpg  dog.49.jpg\tdog.7.jpg\n",
            "dog.10.jpg   dog.140.jpg  dog.171.jpg  dog.201.jpg  dog.4.jpg\tdog.80.jpg\n",
            "dog.110.jpg  dog.141.jpg  dog.172.jpg  dog.202.jpg  dog.50.jpg\tdog.81.jpg\n",
            "dog.111.jpg  dog.142.jpg  dog.173.jpg  dog.20.jpg   dog.51.jpg\tdog.82.jpg\n",
            "dog.112.jpg  dog.143.jpg  dog.174.jpg  dog.21.jpg   dog.52.jpg\tdog.83.jpg\n",
            "dog.113.jpg  dog.144.jpg  dog.175.jpg  dog.22.jpg   dog.53.jpg\tdog.84.jpg\n",
            "dog.114.jpg  dog.145.jpg  dog.176.jpg  dog.23.jpg   dog.54.jpg\tdog.85.jpg\n",
            "dog.115.jpg  dog.146.jpg  dog.177.jpg  dog.24.jpg   dog.55.jpg\tdog.86.jpg\n",
            "dog.116.jpg  dog.147.jpg  dog.178.jpg  dog.25.jpg   dog.56.jpg\tdog.87.jpg\n",
            "dog.117.jpg  dog.148.jpg  dog.179.jpg  dog.26.jpg   dog.57.jpg\tdog.88.jpg\n",
            "dog.118.jpg  dog.149.jpg  dog.17.jpg   dog.27.jpg   dog.58.jpg\tdog.89.jpg\n",
            "dog.119.jpg  dog.14.jpg   dog.180.jpg  dog.28.jpg   dog.59.jpg\tdog.8.jpg\n",
            "dog.11.jpg   dog.150.jpg  dog.181.jpg  dog.29.jpg   dog.5.jpg\tdog.90.jpg\n",
            "dog.120.jpg  dog.151.jpg  dog.182.jpg  dog.2.jpg    dog.60.jpg\tdog.91.jpg\n",
            "dog.121.jpg  dog.152.jpg  dog.183.jpg  dog.30.jpg   dog.61.jpg\tdog.92.jpg\n",
            "dog.122.jpg  dog.153.jpg  dog.184.jpg  dog.31.jpg   dog.62.jpg\tdog.93.jpg\n",
            "dog.123.jpg  dog.154.jpg  dog.185.jpg  dog.32.jpg   dog.63.jpg\tdog.94.jpg\n",
            "dog.124.jpg  dog.155.jpg  dog.186.jpg  dog.33.jpg   dog.64.jpg\tdog.95.jpg\n",
            "dog.125.jpg  dog.156.jpg  dog.187.jpg  dog.34.jpg   dog.65.jpg\tdog.96.jpg\n",
            "dog.126.jpg  dog.157.jpg  dog.188.jpg  dog.35.jpg   dog.66.jpg\tdog.97.jpg\n",
            "dog.127.jpg  dog.158.jpg  dog.189.jpg  dog.36.jpg   dog.67.jpg\tdog.98.jpg\n",
            "dog.128.jpg  dog.159.jpg  dog.18.jpg   dog.37.jpg   dog.68.jpg\tdog.99.jpg\n",
            "dog.129.jpg  dog.15.jpg   dog.190.jpg  dog.38.jpg   dog.69.jpg\tdog.9.jpg\n",
            "dog.12.jpg   dog.160.jpg  dog.191.jpg  dog.39.jpg   dog.6.jpg\n",
            "dog.130.jpg  dog.161.jpg  dog.192.jpg  dog.3.jpg    dog.70.jpg\n"
          ],
          "name": "stdout"
        }
      ]
    }
  ]
}